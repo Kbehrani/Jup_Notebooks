{
 "cells": [
  {
   "cell_type": "code",
   "execution_count": 6,
   "metadata": {},
   "outputs": [
    {
     "data": {
      "text/plain": [
       "'1.3.4'"
      ]
     },
     "execution_count": 6,
     "metadata": {},
     "output_type": "execute_result"
    }
   ],
   "source": [
    "# savings=100\n",
    "# growth_multiplier=1.1\n",
    "# result=savings*growth_multiplier**7\n",
    "# print(result)\n",
    "\n",
    "#creating lists\n",
    "# hall=2\n",
    "# kit=5\n",
    "# liv=10\n",
    "# areas=[hall,kit,liv]\n",
    "# print(areas)\n",
    "# areas_1=[\"hallway\", hall, \"kitchen\",kit]\n",
    "# print(areas_1)\n",
    "\n",
    "#import file\n",
    "# import pandas as pd\n",
    "# import numpy as np\n",
    "# import matplotlib.pyplot as plt\n",
    "# %matplotlib inline\n",
    "import pandas as pd\n",
    "load=pd.read_excel('/Users/kavishabehrani/Documents/Jup_notebooks/File1.xlsx')\n",
    "load1=pd.read_excel('/Users/kavishabehrani/Documents/Jup_notebooks/File2.xlsx')\n",
    "load.head()\n",
    "load1.head()\n",
    "new_data=pd.merge(load,load1, on =['id'], how=\"inner\")\n",
    "new_data\n",
    "\n",
    "new_data=pd.merge(load,load1, on =['id'], how=\"left\")\n",
    "new_data\n",
    "\n",
    "new_data=pd.merge(load,load1, on =['id'], how=\"right\")\n",
    "new_data"
   ]
  }
 ],
 "metadata": {
  "interpreter": {
   "hash": "3dd4e4aef1be964ed0fbf400ec7d39e5cf00f5c2af4dc9b11f4dc47ad11c6cca"
  },
  "kernelspec": {
   "display_name": "Python 3.9.7 ('base')",
   "language": "python",
   "name": "python3"
  },
  "language_info": {
   "codemirror_mode": {
    "name": "ipython",
    "version": 3
   },
   "file_extension": ".py",
   "mimetype": "text/x-python",
   "name": "python",
   "nbconvert_exporter": "python",
   "pygments_lexer": "ipython3",
   "version": "3.9.7"
  },
  "orig_nbformat": 4
 },
 "nbformat": 4,
 "nbformat_minor": 2
}
